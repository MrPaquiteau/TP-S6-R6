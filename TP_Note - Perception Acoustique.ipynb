{
 "cells": [
  {
   "cell_type": "markdown",
   "metadata": {},
   "source": [
    "# Perception acoustique puis multimodale"
   ]
  },
  {
   "cell_type": "markdown",
   "metadata": {},
   "source": [
    "**Créez un environnement conda contenant les package suivant depuis le chanel pytorch :\n",
    "pip, pytorch, torchvision, torchaudio, pandas, numpy, matplotlib. Activez cet\n",
    "environnement. Si vous êtes sous Windows exécutez « pip install pySoundFile » sinon\n",
    "exécutez « pip install sox »**"
   ]
  },
  {
   "cell_type": "code",
   "execution_count": 1,
   "metadata": {},
   "outputs": [],
   "source": [
    "# # !pip install pandas numpy matplotlib\n",
    "\n",
    "# !pip3 install torch torchvision torchaudio --index-url https://download.pytorch.org/whl/cu126\n",
    "# !pip install pySoundFile"
   ]
  },
  {
   "cell_type": "code",
   "execution_count": 2,
   "metadata": {},
   "outputs": [],
   "source": [
    "# !pip freeze"
   ]
  },
  {
   "cell_type": "code",
   "execution_count": 3,
   "metadata": {},
   "outputs": [],
   "source": [
    "import os\n",
    "\n",
    "# Create the requirements directory if it doesn't exist\n",
    "if not os.path.exists('requirements'):\n",
    "    os.makedirs('requirements')\n",
    "\n",
    "# # Export conda environment information\n",
    "!conda list --export > requirements/requirements_TPNOTE.txt\n",
    "!conda env export > requirements/environment_TPNOTE.yml"
   ]
  },
  {
   "cell_type": "code",
   "execution_count": 4,
   "metadata": {},
   "outputs": [],
   "source": [
    "# !pip install requirements/requirements_TPNOTE.txt\n",
    "# !conda env create -f requirements/environment_TPNOTE.yml"
   ]
  },
  {
   "cell_type": "markdown",
   "metadata": {},
   "source": [
    "**Téléchargez « AudioMNIST.zip ». Regardez et écoutez quelques exemples du répertoire\n",
    "« recordings ». Vous y trouverez des fichiers dont le nom est composé du chiffre à énoncer\n",
    "de 0 à 9, suivi du nom du locuteur, suivi de numéro de la répétition (de 0 à 50). Nous\n",
    "limitons Audio MNIST à 3000 fichiers pour ce TP**"
   ]
  },
  {
   "cell_type": "code",
   "execution_count": 2,
   "metadata": {},
   "outputs": [
    {
     "name": "stdout",
     "output_type": "stream",
     "text": [
      "Nombre de fichiers audio : 3000\n"
     ]
    }
   ],
   "source": [
    "import os\n",
    "\n",
    "# Path to the directory\n",
    "directory = \"AudioMNIST/recordings\"\n",
    "\n",
    "# Get the list of files in the directory\n",
    "files = os.listdir(directory)\n",
    "\n",
    "# Get the number of files\n",
    "num_files = len(files)\n",
    "print(f\"Nombre de fichiers audio : {num_files}\")"
   ]
  },
  {
   "cell_type": "markdown",
   "metadata": {},
   "source": [
    "**Utilisez  le  script  « ShowAudioFile.py » pour visualiser quelques fichiers. L’axe des y \n",
    "représente les fréquences sur le spectrogram. D’après ce que nous avons vu en cours, quelles \n",
    "sont  les  fréquences  représentées  sur  ce  graphe ?  Le script utilise (comme l’auteur) le \n",
    "MelSpectrogram. A quoi cela correspond-t-il ?**"
   ]
  },
  {
   "cell_type": "code",
   "execution_count": 3,
   "metadata": {},
   "outputs": [
    {
     "name": "stderr",
     "output_type": "stream",
     "text": [
      "c:\\Users\\kopno\\Desktop\\TP-S6-R6\\.venv\\Lib\\site-packages\\torchaudio\\functional\\functional.py:584: UserWarning: At least one mel filterbank has all zero values. The value for `n_mels` (128) may be set too high. Or, the value for `n_freqs` (201) may be set too low.\n",
      "  warnings.warn(\n"
     ]
    }
   ],
   "source": [
    "import sys\n",
    "\n",
    "sys.path.append('AudioMNIST')\n",
    "from AudioMNISTLoader import AudioDataset\n",
    "from ShowAudioFile import main\n",
    "import random\n",
    "\n",
    "# Set random seed for reproducibility\n",
    "random.seed(42)\n",
    "\n",
    "# Randomly select 5 files from the list\n",
    "selected_files = random.sample(files, 2)"
   ]
  },
  {
   "cell_type": "code",
   "execution_count": 5,
   "metadata": {},
   "outputs": [
    {
     "name": "stdout",
     "output_type": "stream",
     "text": [
      "Read 'AudioMNIST/recordings\\8_theo_26.wav' with option spectrogram=True\n"
     ]
    },
    {
     "ename": "RuntimeError",
     "evalue": "Couldn't find appropriate backend to handle uri AudioMNIST/recordings\\8_theo_26.wav and format None.",
     "output_type": "error",
     "traceback": [
      "\u001b[31m---------------------------------------------------------------------------\u001b[39m",
      "\u001b[31mRuntimeError\u001b[39m                              Traceback (most recent call last)",
      "\u001b[36mCell\u001b[39m\u001b[36m \u001b[39m\u001b[32mIn[5]\u001b[39m\u001b[32m, line 8\u001b[39m\n\u001b[32m      2\u001b[39m \u001b[38;5;28;01mfor\u001b[39;00m file \u001b[38;5;129;01min\u001b[39;00m selected_files:\n\u001b[32m      3\u001b[39m     sys.argv = [\n\u001b[32m      4\u001b[39m         \u001b[33m'\u001b[39m\u001b[33mscript.py\u001b[39m\u001b[33m'\u001b[39m, \n\u001b[32m      5\u001b[39m         os.path.join(directory, file), \n\u001b[32m      6\u001b[39m         \u001b[33m'\u001b[39m\u001b[33m--spectrogram\u001b[39m\u001b[33m'\u001b[39m\n\u001b[32m      7\u001b[39m     ]\n\u001b[32m----> \u001b[39m\u001b[32m8\u001b[39m     \u001b[43mmain\u001b[49m\u001b[43m(\u001b[49m\u001b[43m)\u001b[49m\n",
      "\u001b[36mFile \u001b[39m\u001b[32mc:\\Users\\kopno\\Desktop\\TP-S6-R6\\AudioMNIST\\ShowAudioFile.py:20\u001b[39m, in \u001b[36mmain\u001b[39m\u001b[34m()\u001b[39m\n\u001b[32m     17\u001b[39m \u001b[38;5;28mprint\u001b[39m( \u001b[33m\"\u001b[39m\u001b[33mRead \u001b[39m\u001b[33m'\u001b[39m\u001b[38;5;132;01m{}\u001b[39;00m\u001b[33m'\u001b[39m\u001b[33m with option spectrogram=\u001b[39m\u001b[38;5;132;01m{}\u001b[39;00m\u001b[33m\"\u001b[39m.format(args.filename, args.spectrogram) )\n\u001b[32m     19\u001b[39m \u001b[38;5;66;03m# chargement de l'audio\u001b[39;00m\n\u001b[32m---> \u001b[39m\u001b[32m20\u001b[39m audio = \u001b[43mtorchaudio\u001b[49m\u001b[43m.\u001b[49m\u001b[43mload\u001b[49m\u001b[43m(\u001b[49m\u001b[43margs\u001b[49m\u001b[43m.\u001b[49m\u001b[43mfilename\u001b[49m\u001b[43m)\u001b[49m[\u001b[32m0\u001b[39m][\u001b[32m0\u001b[39m]\n\u001b[32m     22\u001b[39m \u001b[38;5;66;03m# Show Audio with or without spectrogram\u001b[39;00m\n\u001b[32m     23\u001b[39m \u001b[38;5;28;01mif\u001b[39;00m args.spectrogram:\n",
      "\u001b[36mFile \u001b[39m\u001b[32mc:\\Users\\kopno\\Desktop\\TP-S6-R6\\.venv\\Lib\\site-packages\\torchaudio\\_backend\\utils.py:204\u001b[39m, in \u001b[36mget_load_func.<locals>.load\u001b[39m\u001b[34m(uri, frame_offset, num_frames, normalize, channels_first, format, buffer_size, backend)\u001b[39m\n\u001b[32m    118\u001b[39m \u001b[38;5;28;01mdef\u001b[39;00m\u001b[38;5;250m \u001b[39m\u001b[34mload\u001b[39m(\n\u001b[32m    119\u001b[39m     uri: Union[BinaryIO, \u001b[38;5;28mstr\u001b[39m, os.PathLike],\n\u001b[32m    120\u001b[39m     frame_offset: \u001b[38;5;28mint\u001b[39m = \u001b[32m0\u001b[39m,\n\u001b[32m   (...)\u001b[39m\u001b[32m    126\u001b[39m     backend: Optional[\u001b[38;5;28mstr\u001b[39m] = \u001b[38;5;28;01mNone\u001b[39;00m,\n\u001b[32m    127\u001b[39m ) -> Tuple[torch.Tensor, \u001b[38;5;28mint\u001b[39m]:\n\u001b[32m    128\u001b[39m \u001b[38;5;250m    \u001b[39m\u001b[33;03m\"\"\"Load audio data from source.\u001b[39;00m\n\u001b[32m    129\u001b[39m \n\u001b[32m    130\u001b[39m \u001b[33;03m    By default (``normalize=True``, ``channels_first=True``), this function returns Tensor with\u001b[39;00m\n\u001b[32m   (...)\u001b[39m\u001b[32m    202\u001b[39m \u001b[33;03m            `[channel, time]` else `[time, channel]`.\u001b[39;00m\n\u001b[32m    203\u001b[39m \u001b[33;03m    \"\"\"\u001b[39;00m\n\u001b[32m--> \u001b[39m\u001b[32m204\u001b[39m     backend = \u001b[43mdispatcher\u001b[49m\u001b[43m(\u001b[49m\u001b[43muri\u001b[49m\u001b[43m,\u001b[49m\u001b[43m \u001b[49m\u001b[38;5;28;43mformat\u001b[39;49m\u001b[43m,\u001b[49m\u001b[43m \u001b[49m\u001b[43mbackend\u001b[49m\u001b[43m)\u001b[49m\n\u001b[32m    205\u001b[39m     \u001b[38;5;28;01mreturn\u001b[39;00m backend.load(uri, frame_offset, num_frames, normalize, channels_first, \u001b[38;5;28mformat\u001b[39m, buffer_size)\n",
      "\u001b[36mFile \u001b[39m\u001b[32mc:\\Users\\kopno\\Desktop\\TP-S6-R6\\.venv\\Lib\\site-packages\\torchaudio\\_backend\\utils.py:116\u001b[39m, in \u001b[36mget_load_func.<locals>.dispatcher\u001b[39m\u001b[34m(uri, format, backend_name)\u001b[39m\n\u001b[32m    114\u001b[39m     \u001b[38;5;28;01mif\u001b[39;00m backend.can_decode(uri, \u001b[38;5;28mformat\u001b[39m):\n\u001b[32m    115\u001b[39m         \u001b[38;5;28;01mreturn\u001b[39;00m backend\n\u001b[32m--> \u001b[39m\u001b[32m116\u001b[39m \u001b[38;5;28;01mraise\u001b[39;00m \u001b[38;5;167;01mRuntimeError\u001b[39;00m(\u001b[33mf\u001b[39m\u001b[33m\"\u001b[39m\u001b[33mCouldn\u001b[39m\u001b[33m'\u001b[39m\u001b[33mt find appropriate backend to handle uri \u001b[39m\u001b[38;5;132;01m{\u001b[39;00muri\u001b[38;5;132;01m}\u001b[39;00m\u001b[33m and format \u001b[39m\u001b[38;5;132;01m{\u001b[39;00m\u001b[38;5;28mformat\u001b[39m\u001b[38;5;132;01m}\u001b[39;00m\u001b[33m.\u001b[39m\u001b[33m\"\u001b[39m)\n",
      "\u001b[31mRuntimeError\u001b[39m: Couldn't find appropriate backend to handle uri AudioMNIST/recordings\\8_theo_26.wav and format None."
     ]
    }
   ],
   "source": [
    "# Loop through the selected files and visualize them\n",
    "for file in selected_files:\n",
    "    sys.argv = [\n",
    "        'script.py', \n",
    "        os.path.join(directory, file), \n",
    "        '--spectrogram'\n",
    "    ]\n",
    "    main()"
   ]
  },
  {
   "cell_type": "markdown",
   "metadata": {},
   "source": [
    "Autres visualisations des Mel Spectrogram audios"
   ]
  },
  {
   "cell_type": "code",
   "execution_count": 6,
   "metadata": {},
   "outputs": [
    {
     "name": "stdout",
     "output_type": "stream",
     "text": [
      "2.7.0+cu128\n",
      "2.7.0+cu128\n",
      "Directory: c:\\Users\\kopno\\Desktop\\TP-S6-R6\\AudioMNIST\\recordings\n"
     ]
    },
    {
     "ename": "RuntimeError",
     "evalue": "Couldn't find appropriate backend to handle uri c:\\Users\\kopno\\Desktop\\TP-S6-R6\\AudioMNIST\\recordings\\8_theo_26.wav and format None.",
     "output_type": "error",
     "traceback": [
      "\u001b[31m---------------------------------------------------------------------------\u001b[39m",
      "\u001b[31mRuntimeError\u001b[39m                              Traceback (most recent call last)",
      "\u001b[36mCell\u001b[39m\u001b[36m \u001b[39m\u001b[32mIn[6]\u001b[39m\u001b[32m, line 25\u001b[39m\n\u001b[32m     21\u001b[39m file_path = os.path.join(directory, file)\n\u001b[32m     22\u001b[39m \u001b[38;5;66;03m# file_path = directory / file\u001b[39;00m\n\u001b[32m     23\u001b[39m \n\u001b[32m     24\u001b[39m \u001b[38;5;66;03m# Load audio\u001b[39;00m\n\u001b[32m---> \u001b[39m\u001b[32m25\u001b[39m waveform, sample_rate = \u001b[43mtorchaudio\u001b[49m\u001b[43m.\u001b[49m\u001b[43mload\u001b[49m\u001b[43m(\u001b[49m\u001b[43mfile_path\u001b[49m\u001b[43m)\u001b[49m\n\u001b[32m     27\u001b[39m \u001b[38;5;66;03m# Convert to spectrogram and then to dB\u001b[39;00m\n\u001b[32m     28\u001b[39m spec = ToSpectrogram(waveform)\n",
      "\u001b[36mFile \u001b[39m\u001b[32mc:\\Users\\kopno\\Desktop\\TP-S6-R6\\.venv\\Lib\\site-packages\\torchaudio\\_backend\\utils.py:204\u001b[39m, in \u001b[36mget_load_func.<locals>.load\u001b[39m\u001b[34m(uri, frame_offset, num_frames, normalize, channels_first, format, buffer_size, backend)\u001b[39m\n\u001b[32m    118\u001b[39m \u001b[38;5;28;01mdef\u001b[39;00m\u001b[38;5;250m \u001b[39m\u001b[34mload\u001b[39m(\n\u001b[32m    119\u001b[39m     uri: Union[BinaryIO, \u001b[38;5;28mstr\u001b[39m, os.PathLike],\n\u001b[32m    120\u001b[39m     frame_offset: \u001b[38;5;28mint\u001b[39m = \u001b[32m0\u001b[39m,\n\u001b[32m   (...)\u001b[39m\u001b[32m    126\u001b[39m     backend: Optional[\u001b[38;5;28mstr\u001b[39m] = \u001b[38;5;28;01mNone\u001b[39;00m,\n\u001b[32m    127\u001b[39m ) -> Tuple[torch.Tensor, \u001b[38;5;28mint\u001b[39m]:\n\u001b[32m    128\u001b[39m \u001b[38;5;250m    \u001b[39m\u001b[33;03m\"\"\"Load audio data from source.\u001b[39;00m\n\u001b[32m    129\u001b[39m \n\u001b[32m    130\u001b[39m \u001b[33;03m    By default (``normalize=True``, ``channels_first=True``), this function returns Tensor with\u001b[39;00m\n\u001b[32m   (...)\u001b[39m\u001b[32m    202\u001b[39m \u001b[33;03m            `[channel, time]` else `[time, channel]`.\u001b[39;00m\n\u001b[32m    203\u001b[39m \u001b[33;03m    \"\"\"\u001b[39;00m\n\u001b[32m--> \u001b[39m\u001b[32m204\u001b[39m     backend = \u001b[43mdispatcher\u001b[49m\u001b[43m(\u001b[49m\u001b[43muri\u001b[49m\u001b[43m,\u001b[49m\u001b[43m \u001b[49m\u001b[38;5;28;43mformat\u001b[39;49m\u001b[43m,\u001b[49m\u001b[43m \u001b[49m\u001b[43mbackend\u001b[49m\u001b[43m)\u001b[49m\n\u001b[32m    205\u001b[39m     \u001b[38;5;28;01mreturn\u001b[39;00m backend.load(uri, frame_offset, num_frames, normalize, channels_first, \u001b[38;5;28mformat\u001b[39m, buffer_size)\n",
      "\u001b[36mFile \u001b[39m\u001b[32mc:\\Users\\kopno\\Desktop\\TP-S6-R6\\.venv\\Lib\\site-packages\\torchaudio\\_backend\\utils.py:116\u001b[39m, in \u001b[36mget_load_func.<locals>.dispatcher\u001b[39m\u001b[34m(uri, format, backend_name)\u001b[39m\n\u001b[32m    114\u001b[39m     \u001b[38;5;28;01mif\u001b[39;00m backend.can_decode(uri, \u001b[38;5;28mformat\u001b[39m):\n\u001b[32m    115\u001b[39m         \u001b[38;5;28;01mreturn\u001b[39;00m backend\n\u001b[32m--> \u001b[39m\u001b[32m116\u001b[39m \u001b[38;5;28;01mraise\u001b[39;00m \u001b[38;5;167;01mRuntimeError\u001b[39;00m(\u001b[33mf\u001b[39m\u001b[33m\"\u001b[39m\u001b[33mCouldn\u001b[39m\u001b[33m'\u001b[39m\u001b[33mt find appropriate backend to handle uri \u001b[39m\u001b[38;5;132;01m{\u001b[39;00muri\u001b[38;5;132;01m}\u001b[39;00m\u001b[33m and format \u001b[39m\u001b[38;5;132;01m{\u001b[39;00m\u001b[38;5;28mformat\u001b[39m\u001b[38;5;132;01m}\u001b[39;00m\u001b[33m.\u001b[39m\u001b[33m\"\u001b[39m)\n",
      "\u001b[31mRuntimeError\u001b[39m: Couldn't find appropriate backend to handle uri c:\\Users\\kopno\\Desktop\\TP-S6-R6\\AudioMNIST\\recordings\\8_theo_26.wav and format None."
     ]
    }
   ],
   "source": [
    "import torch\n",
    "import torchaudio\n",
    "from pathlib import Path\n",
    "import matplotlib.pyplot as plt\n",
    "\n",
    "print(torch.__version__)\n",
    "print(torchaudio.__version__)\n",
    "\n",
    "ToSpectrogram = torchaudio.transforms.MelSpectrogram()\n",
    "ToDB = torchaudio.transforms.AmplitudeToDB()\n",
    "\n",
    "base_dir = os.getcwd()\n",
    "\n",
    "# Build the directory path by including the \"AudioMNIST/recordings\" subfolder\n",
    "directory = os.path.join(base_dir, \"AudioMNIST\", \"recordings\")\n",
    "print(\"Directory:\", directory)\n",
    "\n",
    "# Loop through the selected files and visualize them\n",
    "for file in selected_files:\n",
    "    # Construct full path for the file\n",
    "    file_path = os.path.join(directory, file)\n",
    "    # file_path = directory / file\n",
    "\n",
    "    # Load audio\n",
    "    waveform, sample_rate = torchaudio.load(file_path)\n",
    "    \n",
    "    # Convert to spectrogram and then to dB\n",
    "    spec = ToSpectrogram(waveform)\n",
    "    spec_db = ToDB(spec)\n",
    "    \n",
    "    # Create figure with two subplots of equal size\n",
    "    fig, axs = plt.subplots(2, 1, figsize=(12, 10))\n",
    "    \n",
    "    # Plot waveform\n",
    "    axs[0].plot(waveform.t().numpy())\n",
    "    axs[0].set_title(f\"Waveform - {file}\")\n",
    "    axs[0].set_ylabel(\"Amplitude\")\n",
    "    axs[0].set_xlabel(\"Sample\")\n",
    "    axs[0].grid(True)\n",
    "    \n",
    "    # Plot spectrogram\n",
    "    im = axs[1].imshow(spec_db[0].numpy(), origin=\"lower\", aspect=\"auto\", cmap=\"inferno\")\n",
    "    axs[1].set_title(f\"Mel Spectrogram (dB) - {file}\")\n",
    "    axs[1].set_ylabel(\"Mel Frequency Bin\")\n",
    "    axs[1].set_xlabel(\"Time Frame\")\n",
    "    \n",
    "    # Adjust subplot spacing to make room for colorbar at the bottom\n",
    "    plt.subplots_adjust(bottom=0.15)\n",
    "    \n",
    "    # Add colorbar below both plots\n",
    "    cbar_ax = fig.add_axes([0.15, 0.05, 0.7, 0.03])  # [left, bottom, width, height]\n",
    "    cbar = fig.colorbar(im, cax=cbar_ax, orientation=\"horizontal\")\n",
    "    cbar.set_label(\"Amplitude (dB)\")\n",
    "    \n",
    "    plt.tight_layout(rect=[0, 0.1, 1, 1])  # Adjust layout but leave space at bottom for colorbar\n",
    "    plt.show()\n",
    "    \n",
    "    # Print audio information\n",
    "    print(f\"File: {file}\") # Nom du fichier audio actuellement traité. \n",
    "    print(f\"Sample rate: {sample_rate} Hz\") # Taux d'échantillonnage de l'audio, le nombre d'échantillons audio enregistrés par seconde.\n",
    "    print(f\"Waveform shape: {waveform.shape}\") # forme de l'onde, (nombre de canals audio, le temps)\n",
    "    print(f\"Spectrogram shape: {spec.shape}\") # forme du spectrogramme (son représenté en fréquence en fonction du temps), (nombre de bande de fréquences, nombre de fenetres temporelles)\n",
    "    print(f\"Duration: {waveform.shape[1]/sample_rate:.2f} seconds\") # Durée de l'extrait, nombre d'échantillons / taux d'échantillonnage\n",
    "    print(\"-\" * 50)"
   ]
  },
  {
   "cell_type": "code",
   "execution_count": 9,
   "metadata": {},
   "outputs": [
    {
     "data": {
      "image/png": "[encoded data removed]",
      "text/plain": [
       "<Figure size 640x480 with 2 Axes>"
      ]
     },
     "metadata": {},
     "output_type": "display_data"
    },
    {
     "data": {
      "image/png": "[encoded data removed]",
      "text/plain": [
       "<Figure size 640x480 with 2 Axes>"
      ]
     },
     "metadata": {},
     "output_type": "display_data"
    }
   ],
   "source": [
    "from IPython.display import Audio\n",
    "from matplotlib.patches import Rectangle\n",
    "from torchaudio.utils import download_asset\n",
    "\n",
    "import torchaudio.functional as F\n",
    "import torchaudio.transforms as T\n",
    "\n",
    "import librosa\n",
    "\n",
    "torch.random.manual_seed(0)\n",
    "\n",
    "SAMPLE_SPEECH = download_asset(\"tutorial-assets/Lab41-SRI-VOiCES-src-sp0307-ch127535-sg0042.wav\")\n",
    "\n",
    "# ToSpectrogram = torchaudio.transforms.MelSpectrogram()\n",
    "# ToDB = torchaudio.transforms.AmplitudeToDB()\n",
    "\n",
    "def plot_waveform(waveform, sr, title=\"Waveform\", ax=None):\n",
    "    waveform = waveform.numpy()\n",
    "\n",
    "    num_channels, num_frames = waveform.shape\n",
    "    time_axis = torch.arange(0, num_frames) / sr\n",
    "\n",
    "    if ax is None:\n",
    "        _, ax = plt.subplots(num_channels, 1)\n",
    "    ax.plot(time_axis, waveform[0], linewidth=1)\n",
    "    ax.grid(True)\n",
    "    ax.set_xlim([0, time_axis[-1]])\n",
    "    ax.set_title(title)\n",
    "\n",
    "\n",
    "def plot_spectrogram(specgram, title=None, ylabel=\"freq_bin\", ax=None):\n",
    "    if ax is None:\n",
    "        _, ax = plt.subplots(1, 1)\n",
    "    if title is not None:\n",
    "        ax.set_title(title)\n",
    "    ax.set_ylabel(ylabel)\n",
    "    ax.imshow(librosa.power_to_db(specgram), origin=\"lower\", aspect=\"auto\", interpolation=\"nearest\")\n",
    "\n",
    "\n",
    "def plot_fbank(fbank, title=None):\n",
    "    fig, axs = plt.subplots(1, 1)\n",
    "    axs.set_title(title or \"Filter bank\")\n",
    "    axs.imshow(fbank, aspect=\"auto\")\n",
    "    axs.set_ylabel(\"frequency bin\")\n",
    "    axs.set_xlabel(\"mel bin\")\n",
    "\n",
    "# Load audio\n",
    "SPEECH_WAVEFORM, SAMPLE_RATE = torchaudio.load(SAMPLE_SPEECH)\n",
    "\n",
    "# Define transform\n",
    "spectrogram = T.Spectrogram(n_fft=512)\n",
    "\n",
    "# Perform transform\n",
    "spec = spectrogram(SPEECH_WAVEFORM)\n",
    "\n",
    "# Loop through the selected files and visualize them\n",
    "for file in selected_files:\n",
    "    file_path = os.path.join(directory, file)\n",
    "    waveform, sample_rate = torchaudio.load(file_path)\n",
    "    spectrogram = ToSpectrogram(waveform)\n",
    "    # spectrogram = T.Spectrogram(n_fft=512)(waveform)\n",
    "    spec = ToDB(spectrogram)\n",
    "    # spec = librosa.power_to_db(spectrogram)\n",
    "    \n",
    "    fig, axs = plt.subplots(2, 1)\n",
    "    plot_waveform(waveform, sample_rate, title=\"Original waveform\", ax=axs[0])\n",
    "    plot_spectrogram(spec[0], title=\"Spectrogram\", ax=axs[1])\n",
    "    fig.tight_layout()\n",
    "    plt.show()"
   ]
  },
  {
   "cell_type": "markdown",
   "metadata": {},
   "source": [
    "**Les scripts proposés par l’auteur sur  Kaggle  proposent  de  séparer  le  corpus  en  train/test \n",
    "automatiquement  (bloc  1  du  jupyter  notebook  en  ligne).  Je  vous  propose  une  version  du \n",
    "script adapté à notre organisation des données : « SplitTrainTest_original.py ». Exécutez ce \n",
    "script,  regardez  le  contenu  des  fichiers  csv  générés.  Par  rapport  à  ce  que  nous  avons  vu \n",
    "précédemment dans ce TP, que pouvez-vous dire de cette séparation en train/test ?**"
   ]
  },
  {
   "cell_type": "markdown",
   "metadata": {},
   "source": [
    "Contrairement a ce qu'on a vue précédemment, le script découpe le jeux de données en 2 subset représentant 75% des données pour l'entrainement et 25% des données pour les tests. (et on pas 80/20)\n",
    "\n",
    "La méthode de séparation utilise un mélange aléatoire de l'ensemble des données avant la séparation, cela permet d'avoir des jeux de données équilibré, représentant chaque modalités cibles relativement également. "
   ]
  },
  {
   "cell_type": "code",
   "execution_count": 10,
   "metadata": {},
   "outputs": [],
   "source": [
    "import pandas as pd\n",
    "\n",
    "# Change the current working directory\n",
    "os.chdir('AudioMNIST')\n",
    "\n",
    "# Execute the script\n",
    "!python SplitTrainTest_original.py\n",
    "\n",
    "# Change back to the original directory if needed\n",
    "# os.chdir('../../')"
   ]
  },
  {
   "cell_type": "code",
   "execution_count": 11,
   "metadata": {},
   "outputs": [],
   "source": [
    "from torch.utils.data import Dataset\n",
    "\n",
    "class AudioDatasetSpectrogram(Dataset):\n",
    "    def __init__(self, annotations_file, ToSpectrogram, ToDB):\n",
    "        self.annotations = pd.read_csv(annotations_file, header=None, \n",
    "                                       names=['Path', 'Label'], delimiter=',')\n",
    "        self.ToSpectrogram = ToSpectrogram\n",
    "        self.ToDB = ToDB\n",
    "        \n",
    "    def __len__(self):\n",
    "        return len(self.annotations)\n",
    "    \n",
    "    def __getitem__(self, index):\n",
    "        audio_padded = torch.zeros((1, 48000))\n",
    "        audio, _ = torchaudio.load(self.annotations.iloc[index, 0])\n",
    "        audio_padded[0, :audio.shape[1]] = audio[0]\n",
    "        label = self.annotations.iloc[index, 1]\n",
    "        spectrogram = self.ToSpectrogram(audio_padded)\n",
    "        spectrogram = self.ToDB(spectrogram)\n",
    "        return spectrogram, label"
   ]
  },
  {
   "cell_type": "code",
   "execution_count": 13,
   "metadata": {},
   "outputs": [
    {
     "name": "stdout",
     "output_type": "stream",
     "text": [
      "Test DataFrame:\n"
     ]
    },
    {
     "data": {
      "application/vnd.microsoft.datawrangler.viewer.v0+json": {
       "columns": [
        {
         "name": "index",
         "rawType": "int64",
         "type": "integer"
        },
        {
         "name": "file_path",
         "rawType": "object",
         "type": "string"
        },
        {
         "name": "label",
         "rawType": "int64",
         "type": "integer"
        }
       ],
       "conversionMethod": "pd.DataFrame",
       "ref": "b17cf4f3-9b90-40d3-9f04-c1a22e76d3db",
       "rows": [
        [
         "0",
         "recordings/1_george_16.wav",
         "1"
        ],
        [
         "1",
         "recordings/8_george_10.wav",
         "8"
        ],
        [
         "2",
         "recordings/9_theo_48.wav",
         "9"
        ],
        [
         "3",
         "recordings/6_yweweler_44.wav",
         "6"
        ],
        [
         "4",
         "recordings/9_nicolas_31.wav",
         "9"
        ]
       ],
       "shape": {
        "columns": 2,
        "rows": 5
       }
      },
      "text/html": [
       "<div>\n",
       "<style scoped>\n",
       "    .dataframe tbody tr th:only-of-type {\n",
       "        vertical-align: middle;\n",
       "    }\n",
       "\n",
       "    .dataframe tbody tr th {\n",
       "        vertical-align: top;\n",
       "    }\n",
       "\n",
       "    .dataframe thead th {\n",
       "        text-align: right;\n",
       "    }\n",
       "</style>\n",
       "<table border=\"1\" class=\"dataframe\">\n",
       "  <thead>\n",
       "    <tr style=\"text-align: right;\">\n",
       "      <th></th>\n",
       "      <th>file_path</th>\n",
       "      <th>label</th>\n",
       "    </tr>\n",
       "  </thead>\n",
       "  <tbody>\n",
       "    <tr>\n",
       "      <th>0</th>\n",
       "      <td>recordings/1_george_16.wav</td>\n",
       "      <td>1</td>\n",
       "    </tr>\n",
       "    <tr>\n",
       "      <th>1</th>\n",
       "      <td>recordings/8_george_10.wav</td>\n",
       "      <td>8</td>\n",
       "    </tr>\n",
       "    <tr>\n",
       "      <th>2</th>\n",
       "      <td>recordings/9_theo_48.wav</td>\n",
       "      <td>9</td>\n",
       "    </tr>\n",
       "    <tr>\n",
       "      <th>3</th>\n",
       "      <td>recordings/6_yweweler_44.wav</td>\n",
       "      <td>6</td>\n",
       "    </tr>\n",
       "    <tr>\n",
       "      <th>4</th>\n",
       "      <td>recordings/9_nicolas_31.wav</td>\n",
       "      <td>9</td>\n",
       "    </tr>\n",
       "  </tbody>\n",
       "</table>\n",
       "</div>"
      ],
      "text/plain": [
       "                      file_path  label\n",
       "0    recordings/1_george_16.wav      1\n",
       "1    recordings/8_george_10.wav      8\n",
       "2      recordings/9_theo_48.wav      9\n",
       "3  recordings/6_yweweler_44.wav      6\n",
       "4   recordings/9_nicolas_31.wav      9"
      ]
     },
     "metadata": {},
     "output_type": "display_data"
    },
    {
     "name": "stdout",
     "output_type": "stream",
     "text": [
      "\n",
      "Train DataFrame:\n"
     ]
    },
    {
     "data": {
      "application/vnd.microsoft.datawrangler.viewer.v0+json": {
       "columns": [
        {
         "name": "index",
         "rawType": "int64",
         "type": "integer"
        },
        {
         "name": "file_path",
         "rawType": "object",
         "type": "string"
        },
        {
         "name": "label",
         "rawType": "int64",
         "type": "integer"
        }
       ],
       "conversionMethod": "pd.DataFrame",
       "ref": "97030800-b03d-4441-a29e-9007e5c8992f",
       "rows": [
        [
         "0",
         "recordings/4_george_33.wav",
         "4"
        ],
        [
         "1",
         "recordings/1_yweweler_9.wav",
         "1"
        ],
        [
         "2",
         "recordings/1_george_23.wav",
         "1"
        ],
        [
         "3",
         "recordings/9_jackson_28.wav",
         "9"
        ],
        [
         "4",
         "recordings/7_theo_14.wav",
         "7"
        ]
       ],
       "shape": {
        "columns": 2,
        "rows": 5
       }
      },
      "text/html": [
       "<div>\n",
       "<style scoped>\n",
       "    .dataframe tbody tr th:only-of-type {\n",
       "        vertical-align: middle;\n",
       "    }\n",
       "\n",
       "    .dataframe tbody tr th {\n",
       "        vertical-align: top;\n",
       "    }\n",
       "\n",
       "    .dataframe thead th {\n",
       "        text-align: right;\n",
       "    }\n",
       "</style>\n",
       "<table border=\"1\" class=\"dataframe\">\n",
       "  <thead>\n",
       "    <tr style=\"text-align: right;\">\n",
       "      <th></th>\n",
       "      <th>file_path</th>\n",
       "      <th>label</th>\n",
       "    </tr>\n",
       "  </thead>\n",
       "  <tbody>\n",
       "    <tr>\n",
       "      <th>0</th>\n",
       "      <td>recordings/4_george_33.wav</td>\n",
       "      <td>4</td>\n",
       "    </tr>\n",
       "    <tr>\n",
       "      <th>1</th>\n",
       "      <td>recordings/1_yweweler_9.wav</td>\n",
       "      <td>1</td>\n",
       "    </tr>\n",
       "    <tr>\n",
       "      <th>2</th>\n",
       "      <td>recordings/1_george_23.wav</td>\n",
       "      <td>1</td>\n",
       "    </tr>\n",
       "    <tr>\n",
       "      <th>3</th>\n",
       "      <td>recordings/9_jackson_28.wav</td>\n",
       "      <td>9</td>\n",
       "    </tr>\n",
       "    <tr>\n",
       "      <th>4</th>\n",
       "      <td>recordings/7_theo_14.wav</td>\n",
       "      <td>7</td>\n",
       "    </tr>\n",
       "  </tbody>\n",
       "</table>\n",
       "</div>"
      ],
      "text/plain": [
       "                     file_path  label\n",
       "0   recordings/4_george_33.wav      4\n",
       "1  recordings/1_yweweler_9.wav      1\n",
       "2   recordings/1_george_23.wav      1\n",
       "3  recordings/9_jackson_28.wav      9\n",
       "4     recordings/7_theo_14.wav      7"
      ]
     },
     "metadata": {},
     "output_type": "display_data"
    },
    {
     "name": "stdout",
     "output_type": "stream",
     "text": [
      "\n",
      "Number of individuals in test set: 6\n",
      "Number of individuals in train set: 6\n",
      "\n",
      "Number of samples in test set: 750\n",
      "Number of samples in train set: 2250\n",
      "Test set counts and proportions:\n"
     ]
    },
    {
     "data": {
      "application/vnd.microsoft.datawrangler.viewer.v0+json": {
       "columns": [
        {
         "name": "label",
         "rawType": "int64",
         "type": "integer"
        },
        {
         "name": "Count",
         "rawType": "int64",
         "type": "integer"
        },
        {
         "name": "Proportion",
         "rawType": "float64",
         "type": "float"
        }
       ],
       "conversionMethod": "pd.DataFrame",
       "ref": "d0688bf3-8581-4756-8e51-54361ea48b56",
       "rows": [
        [
         "5",
         "84",
         "0.112"
        ],
        [
         "0",
         "81",
         "0.108"
        ],
        [
         "4",
         "77",
         "0.10266666666666667"
        ],
        [
         "8",
         "76",
         "0.10133333333333333"
        ],
        [
         "9",
         "75",
         "0.1"
        ],
        [
         "1",
         "73",
         "0.09733333333333333"
        ],
        [
         "6",
         "73",
         "0.09733333333333333"
        ],
        [
         "2",
         "72",
         "0.096"
        ],
        [
         "3",
         "70",
         "0.09333333333333334"
        ],
        [
         "7",
         "69",
         "0.092"
        ]
       ],
       "shape": {
        "columns": 2,
        "rows": 10
       }
      },
      "text/html": [
       "<div>\n",
       "<style scoped>\n",
       "    .dataframe tbody tr th:only-of-type {\n",
       "        vertical-align: middle;\n",
       "    }\n",
       "\n",
       "    .dataframe tbody tr th {\n",
       "        vertical-align: top;\n",
       "    }\n",
       "\n",
       "    .dataframe thead th {\n",
       "        text-align: right;\n",
       "    }\n",
       "</style>\n",
       "<table border=\"1\" class=\"dataframe\">\n",
       "  <thead>\n",
       "    <tr style=\"text-align: right;\">\n",
       "      <th></th>\n",
       "      <th>Count</th>\n",
       "      <th>Proportion</th>\n",
       "    </tr>\n",
       "    <tr>\n",
       "      <th>label</th>\n",
       "      <th></th>\n",
       "      <th></th>\n",
       "    </tr>\n",
       "  </thead>\n",
       "  <tbody>\n",
       "    <tr>\n",
       "      <th>5</th>\n",
       "      <td>84</td>\n",
       "      <td>0.112000</td>\n",
       "    </tr>\n",
       "    <tr>\n",
       "      <th>0</th>\n",
       "      <td>81</td>\n",
       "      <td>0.108000</td>\n",
       "    </tr>\n",
       "    <tr>\n",
       "      <th>4</th>\n",
       "      <td>77</td>\n",
       "      <td>0.102667</td>\n",
       "    </tr>\n",
       "    <tr>\n",
       "      <th>8</th>\n",
       "      <td>76</td>\n",
       "      <td>0.101333</td>\n",
       "    </tr>\n",
       "    <tr>\n",
       "      <th>9</th>\n",
       "      <td>75</td>\n",
       "      <td>0.100000</td>\n",
       "    </tr>\n",
       "    <tr>\n",
       "      <th>1</th>\n",
       "      <td>73</td>\n",
       "      <td>0.097333</td>\n",
       "    </tr>\n",
       "    <tr>\n",
       "      <th>6</th>\n",
       "      <td>73</td>\n",
       "      <td>0.097333</td>\n",
       "    </tr>\n",
       "    <tr>\n",
       "      <th>2</th>\n",
       "      <td>72</td>\n",
       "      <td>0.096000</td>\n",
       "    </tr>\n",
       "    <tr>\n",
       "      <th>3</th>\n",
       "      <td>70</td>\n",
       "      <td>0.093333</td>\n",
       "    </tr>\n",
       "    <tr>\n",
       "      <th>7</th>\n",
       "      <td>69</td>\n",
       "      <td>0.092000</td>\n",
       "    </tr>\n",
       "  </tbody>\n",
       "</table>\n",
       "</div>"
      ],
      "text/plain": [
       "       Count  Proportion\n",
       "label                   \n",
       "5         84    0.112000\n",
       "0         81    0.108000\n",
       "4         77    0.102667\n",
       "8         76    0.101333\n",
       "9         75    0.100000\n",
       "1         73    0.097333\n",
       "6         73    0.097333\n",
       "2         72    0.096000\n",
       "3         70    0.093333\n",
       "7         69    0.092000"
      ]
     },
     "metadata": {},
     "output_type": "display_data"
    },
    {
     "name": "stdout",
     "output_type": "stream",
     "text": [
      "\n",
      "Train set counts and proportions:\n"
     ]
    },
    {
     "data": {
      "application/vnd.microsoft.datawrangler.viewer.v0+json": {
       "columns": [
        {
         "name": "label",
         "rawType": "int64",
         "type": "integer"
        },
        {
         "name": "Count",
         "rawType": "int64",
         "type": "integer"
        },
        {
         "name": "Proportion",
         "rawType": "float64",
         "type": "float"
        }
       ],
       "conversionMethod": "pd.DataFrame",
       "ref": "ecaff638-747e-48dd-a9ac-004c4f79590c",
       "rows": [
        [
         "7",
         "231",
         "0.10266666666666667"
        ],
        [
         "3",
         "230",
         "0.10222222222222223"
        ],
        [
         "2",
         "228",
         "0.10133333333333333"
        ],
        [
         "1",
         "227",
         "0.10088888888888889"
        ],
        [
         "6",
         "227",
         "0.10088888888888889"
        ],
        [
         "9",
         "225",
         "0.1"
        ],
        [
         "8",
         "224",
         "0.09955555555555555"
        ],
        [
         "4",
         "223",
         "0.09911111111111111"
        ],
        [
         "0",
         "219",
         "0.09733333333333333"
        ],
        [
         "5",
         "216",
         "0.096"
        ]
       ],
       "shape": {
        "columns": 2,
        "rows": 10
       }
      },
      "text/html": [
       "<div>\n",
       "<style scoped>\n",
       "    .dataframe tbody tr th:only-of-type {\n",
       "        vertical-align: middle;\n",
       "    }\n",
       "\n",
       "    .dataframe tbody tr th {\n",
       "        vertical-align: top;\n",
       "    }\n",
       "\n",
       "    .dataframe thead th {\n",
       "        text-align: right;\n",
       "    }\n",
       "</style>\n",
       "<table border=\"1\" class=\"dataframe\">\n",
       "  <thead>\n",
       "    <tr style=\"text-align: right;\">\n",
       "      <th></th>\n",
       "      <th>Count</th>\n",
       "      <th>Proportion</th>\n",
       "    </tr>\n",
       "    <tr>\n",
       "      <th>label</th>\n",
       "      <th></th>\n",
       "      <th></th>\n",
       "    </tr>\n",
       "  </thead>\n",
       "  <tbody>\n",
       "    <tr>\n",
       "      <th>7</th>\n",
       "      <td>231</td>\n",
       "      <td>0.102667</td>\n",
       "    </tr>\n",
       "    <tr>\n",
       "      <th>3</th>\n",
       "      <td>230</td>\n",
       "      <td>0.102222</td>\n",
       "    </tr>\n",
       "    <tr>\n",
       "      <th>2</th>\n",
       "      <td>228</td>\n",
       "      <td>0.101333</td>\n",
       "    </tr>\n",
       "    <tr>\n",
       "      <th>1</th>\n",
       "      <td>227</td>\n",
       "      <td>0.100889</td>\n",
       "    </tr>\n",
       "    <tr>\n",
       "      <th>6</th>\n",
       "      <td>227</td>\n",
       "      <td>0.100889</td>\n",
       "    </tr>\n",
       "    <tr>\n",
       "      <th>9</th>\n",
       "      <td>225</td>\n",
       "      <td>0.100000</td>\n",
       "    </tr>\n",
       "    <tr>\n",
       "      <th>8</th>\n",
       "      <td>224</td>\n",
       "      <td>0.099556</td>\n",
       "    </tr>\n",
       "    <tr>\n",
       "      <th>4</th>\n",
       "      <td>223</td>\n",
       "      <td>0.099111</td>\n",
       "    </tr>\n",
       "    <tr>\n",
       "      <th>0</th>\n",
       "      <td>219</td>\n",
       "      <td>0.097333</td>\n",
       "    </tr>\n",
       "    <tr>\n",
       "      <th>5</th>\n",
       "      <td>216</td>\n",
       "      <td>0.096000</td>\n",
       "    </tr>\n",
       "  </tbody>\n",
       "</table>\n",
       "</div>"
      ],
      "text/plain": [
       "       Count  Proportion\n",
       "label                   \n",
       "7        231    0.102667\n",
       "3        230    0.102222\n",
       "2        228    0.101333\n",
       "1        227    0.100889\n",
       "6        227    0.100889\n",
       "9        225    0.100000\n",
       "8        224    0.099556\n",
       "4        223    0.099111\n",
       "0        219    0.097333\n",
       "5        216    0.096000"
      ]
     },
     "metadata": {},
     "output_type": "display_data"
    },
    {
     "name": "stdout",
     "output_type": "stream",
     "text": [
      "\n",
      "Full dataset counts and proportions:\n"
     ]
    },
    {
     "data": {
      "application/vnd.microsoft.datawrangler.viewer.v0+json": {
       "columns": [
        {
         "name": "label",
         "rawType": "int64",
         "type": "integer"
        },
        {
         "name": "Count",
         "rawType": "int64",
         "type": "integer"
        },
        {
         "name": "Proportion",
         "rawType": "float64",
         "type": "float"
        }
       ],
       "conversionMethod": "pd.DataFrame",
       "ref": "28474299-7cd2-4ac5-bfb0-275060a5342d",
       "rows": [
        [
         "1",
         "300",
         "0.1"
        ],
        [
         "8",
         "300",
         "0.1"
        ],
        [
         "9",
         "300",
         "0.1"
        ],
        [
         "6",
         "300",
         "0.1"
        ],
        [
         "7",
         "300",
         "0.1"
        ],
        [
         "5",
         "300",
         "0.1"
        ],
        [
         "0",
         "300",
         "0.1"
        ],
        [
         "4",
         "300",
         "0.1"
        ],
        [
         "3",
         "300",
         "0.1"
        ],
        [
         "2",
         "300",
         "0.1"
        ]
       ],
       "shape": {
        "columns": 2,
        "rows": 10
       }
      },
      "text/html": [
       "<div>\n",
       "<style scoped>\n",
       "    .dataframe tbody tr th:only-of-type {\n",
       "        vertical-align: middle;\n",
       "    }\n",
       "\n",
       "    .dataframe tbody tr th {\n",
       "        vertical-align: top;\n",
       "    }\n",
       "\n",
       "    .dataframe thead th {\n",
       "        text-align: right;\n",
       "    }\n",
       "</style>\n",
       "<table border=\"1\" class=\"dataframe\">\n",
       "  <thead>\n",
       "    <tr style=\"text-align: right;\">\n",
       "      <th></th>\n",
       "      <th>Count</th>\n",
       "      <th>Proportion</th>\n",
       "    </tr>\n",
       "    <tr>\n",
       "      <th>label</th>\n",
       "      <th></th>\n",
       "      <th></th>\n",
       "    </tr>\n",
       "  </thead>\n",
       "  <tbody>\n",
       "    <tr>\n",
       "      <th>1</th>\n",
       "      <td>300</td>\n",
       "      <td>0.1</td>\n",
       "    </tr>\n",
       "    <tr>\n",
       "      <th>8</th>\n",
       "      <td>300</td>\n",
       "      <td>0.1</td>\n",
       "    </tr>\n",
       "    <tr>\n",
       "      <th>9</th>\n",
       "      <td>300</td>\n",
       "      <td>0.1</td>\n",
       "    </tr>\n",
       "    <tr>\n",
       "      <th>6</th>\n",
       "      <td>300</td>\n",
       "      <td>0.1</td>\n",
       "    </tr>\n",
       "    <tr>\n",
       "      <th>7</th>\n",
       "      <td>300</td>\n",
       "      <td>0.1</td>\n",
       "    </tr>\n",
       "    <tr>\n",
       "      <th>5</th>\n",
       "      <td>300</td>\n",
       "      <td>0.1</td>\n",
       "    </tr>\n",
       "    <tr>\n",
       "      <th>0</th>\n",
       "      <td>300</td>\n",
       "      <td>0.1</td>\n",
       "    </tr>\n",
       "    <tr>\n",
       "      <th>4</th>\n",
       "      <td>300</td>\n",
       "      <td>0.1</td>\n",
       "    </tr>\n",
       "    <tr>\n",
       "      <th>3</th>\n",
       "      <td>300</td>\n",
       "      <td>0.1</td>\n",
       "    </tr>\n",
       "    <tr>\n",
       "      <th>2</th>\n",
       "      <td>300</td>\n",
       "      <td>0.1</td>\n",
       "    </tr>\n",
       "  </tbody>\n",
       "</table>\n",
       "</div>"
      ],
      "text/plain": [
       "       Count  Proportion\n",
       "label                   \n",
       "1        300         0.1\n",
       "8        300         0.1\n",
       "9        300         0.1\n",
       "6        300         0.1\n",
       "7        300         0.1\n",
       "5        300         0.1\n",
       "0        300         0.1\n",
       "4        300         0.1\n",
       "3        300         0.1\n",
       "2        300         0.1"
      ]
     },
     "metadata": {},
     "output_type": "display_data"
    }
   ],
   "source": [
    "# Load the CSV files\n",
    "test_df = pd.read_csv('./test_audioMNIST.csv', names=['file_path', 'label'])\n",
    "train_df = pd.read_csv('./train_audioMNIST.csv', names=['file_path', 'label'])\n",
    "\n",
    "# Display the first few rows of each dataframe\n",
    "print(\"Test DataFrame:\")\n",
    "display(test_df.head())\n",
    "\n",
    "print(\"\\nTrain DataFrame:\")\n",
    "display(train_df.head())\n",
    "\n",
    "# Get the number of individuals in each dataframe\n",
    "test_df['speaker'] = test_df.iloc[:, 0].apply(lambda x: x.split('_')[1])\n",
    "train_df['speaker'] = train_df.iloc[:, 0].apply(lambda x: x.split('_')[1])\n",
    "\n",
    "# ================================================================\n",
    "\n",
    "num_individuals_test = test_df['speaker'].nunique()\n",
    "num_individuals_train = train_df['speaker'].nunique()\n",
    "\n",
    "print(f\"\\nNumber of individuals in test set: {num_individuals_test}\")\n",
    "print(f\"Number of individuals in train set: {num_individuals_train}\")\n",
    "\n",
    "# ================================================================\n",
    "\n",
    "# Get the number of samples in each dataframe\n",
    "num_samples_test = test_df.shape[0]\n",
    "num_samples_train = train_df.shape[0]\n",
    "\n",
    "print(f\"\\nNumber of samples in test set: {num_samples_test}\")\n",
    "print(f\"Number of samples in train set: {num_samples_train}\")\n",
    "\n",
    "# ================================================================\n",
    "\n",
    "# Count occurrences of each number in the test set\n",
    "test_counts = test_df.iloc[:, 1].value_counts()\n",
    "test_proportions = test_counts / num_samples_test\n",
    "print(\"Test set counts and proportions:\")\n",
    "display(pd.DataFrame({'Count': test_counts, 'Proportion': test_proportions}))\n",
    "\n",
    "# Count occurrences of each number in the train set\n",
    "train_counts = train_df.iloc[:, 1].value_counts()\n",
    "train_proportions = train_counts / num_samples_train\n",
    "print(\"\\nTrain set counts and proportions:\")\n",
    "display(pd.DataFrame({'Count': train_counts, 'Proportion': train_proportions}))\n",
    "\n",
    "# Combine both dataframes to count occurrences in the full dataset\n",
    "full_df = pd.concat([test_df, train_df], ignore_index=True)\n",
    "num_samples_full = full_df.shape[0]\n",
    "full_counts = full_df.iloc[:, 1].value_counts()\n",
    "full_proportions = full_counts / num_samples_full\n",
    "print(\"\\nFull dataset counts and proportions:\")\n",
    "display(pd.DataFrame({'Count': full_counts, 'Proportion': full_proportions}))"
   ]
  },
  {
   "cell_type": "markdown",
   "metadata": {},
   "source": [
    "**Nous  allons  étudier  certains  blocs  du  jupyter  Notebook.  Les  blocs  2  à  9  servent  au \n",
    "chargement  des  données.  Le  bloc  10  sert  à  normaliser  les  données  en  utilisant un \n",
    "moyennage. Expliquez ce que font les blocs de 11 à 15. Quel modèle décrivent-ils ? (https://www.kaggle.com/code/jokekling/pytorch-study-audio)**"
   ]
  },
  {
   "cell_type": "markdown",
   "metadata": {},
   "source": [
    "### Block 11\n",
    "Le block 11 définis une classe CNN (Convolutional Neural Network), contenant une initalisation et une méthode : \n",
    "- L'initialisation définis une séquence d'opération comme l'algorithme ConvNet, utilisant des méthode hérité de `nn/Module`. Elle définis l'architecture du réseau de neurones, ces couches : \n",
    "    1) Convolution 2D, avec 1 canal d'entrée, 10 de sortie et un noyaux de taille 7x7 et un pas de 3. Cette couche produit 10 feature maps pour chaque données d'entrée, le filtre faisant cela est de taille 7x7 permettant de detecter des oattern dans les données.  \n",
    "    2) Fonction d'activation ReLU, appliqué a la 1er couche. (Introduit de la non linéarité)\n",
    "    3) Convolution 2D, avec 10 canal d'entrée, 10 de sortie et un noyaux de taille 5x5 et un pas de 2. La couche prend en entrée les 10 fetaures maps de la couche précédente, le filtre appliqué au feature maps est de taille 5x5, appliqué a chaque feature map il effectue des convolutions sur les données. Le pas et le kernel diminué permettent de diminuer la taille de la sortie de la 2e couche comparé a la 1er. \n",
    "    4) Fonction d'activation ReLU, appliqué a la 2e couche. \n",
    "    5) Applatissement des données (couche de neurones) en un vecteur 1D. \n",
    "    6) Applique une fonction affine linéaire au données, prend en entrée un vecteur de grande taille (38*19*10), et donne un vecteur de taille 10 en sortie. \n",
    "- La méthode forward permet de passer des données dans le reseaux définis précédemment. On passe une données X dans le réseau et on sort les logits, score brut (avant f() d'activation) pour chaque classe prédite.\n",
    "\n",
    "### Block 12\n",
    "Le block 12 créer une model a partir de la classe CNN, ce modele est transferet sur un dispositif qui sera la GPU si il y en a, et le CPU sinon. \n",
    "\n",
    "### Block 13\n",
    "Le block 13 initialise la fonction de perte d'entropie de pytorch. Elle permet de mesure les écarts entre prédictions du modele et vrais étiquettes des données, la Loss. Cela permet d'évaluer la performance du modele créé. Plus la Loss est faible, plus le modele est bon. \n",
    "\n",
    "Ensuite le block contient un optimiseur de modele via un gradient. Il permet d'ajuster les poids du modele pour minimiser la Loss. Les parametres du gradients sont : un taux d'aprentissage a 0.001 (taille des maj de poids), et un momentum de 0.9 (aide a converger vite). \n",
    "\n",
    "### Block 14\n",
    "Ce block définis 2 fonctions : \n",
    "- La fonction train, utilise le modele CNN prédéfinis, l'optimiseur, la fonction permettant de calculer la Loss, et des données d'entrées. \n",
    "La fonction, pour des lots des données : \n",
    "    1. Charge les données (dans le format adapté au device (GPU ou CPU)) et normalise, \n",
    "    2. Utilise le modele CNN en mode entrainement pour activer le calculs des gradients, \n",
    "    3. Ensuite les opérations \"Forward Pass\" ont lieu : récupere les prédictions de labels fais par le modele, calcul la loss, \n",
    "    4. Met a jour les indicateurs globaux le la loss total et du nombre de prédiction correctes, \n",
    "    5. Enfin à lieu le \"Backward Pass\", on utilise la backpropagation via l'optimiseur gradient (reset du gradient, calculs des pertes pour les parametres, mise a jour des parametres du gradient). \n",
    "    6. La fonction renvoie la perte moyenne et le score du modele (précision). \n",
    "\n",
    "- La fonction Test, utilise le modele CNN, et la fonction de calcul de la Loss. \n",
    "La fonction, par lots : \n",
    "    1. Charge les données (dans le format adapté au device (GPU ou CPU)) et normalise, \n",
    "    2. Utilise le modele CNN en mode évaluation sans activer le calculs des gradients, \n",
    "    3. Ensuite on fais uniquement une opération \"Forward Pass\", on utilise le model et recupere les prédictions, \n",
    "    4. Calculons la Loss de ce modele mettons a jours les indicateurs globaux.\n",
    "    5. Enfin, la fonction renvoie la perte moyenne et le score du modele (précision). \n",
    "\n",
    "### Block 15\n",
    "Dans ce block on utilise tout les éléments et fonctions définis précédemments. Pour 30 epochs, on entraine et test le modele, en ajoutant tout les indicateurs de performance (loss et score de précision) a des listes pour les conserver. \n",
    "\n",
    "### Quel modèle ?\n",
    "\n",
    "Les blocs 11 à 15 décrivent un modèle de réseau de neurones convolutif (CNN) pour la classification d'images et de spectrogrammes audio. Le modèle est entraîné à l'aide de PyTorch, avec des fonctions de perte et des optimisateurs pour ajuster les poids du réseau. Le processus d'entraînement et de test est itératif, avec des évaluations de la performance à chaque époque pour suivre la précision et la perte du modèle."
   ]
  },
  {
   "cell_type": "markdown",
   "metadata": {},
   "source": [
    "**Le  bloc  16  présente  les  losses  d’apprentissage  et  de  test  associées  avec  le  score  de \n",
    "reconnaissance des chiffres (de 0 à 100%). Commentez ce graphique.**"
   ]
  },
  {
   "cell_type": "markdown",
   "metadata": {},
   "source": [
    "Nous observons sur chaque graphique une stabilisation des scores et Loss avec l'augmentation du nombre d'epochs. \n",
    "\n",
    "1) En observant les scores, nous observons qu'ils atteigne tres rapidement un niveau proche de 1. Cela signifie que la précision de la labéllisation est \n",
    "\n",
    "2) Le score de reconnaissance des chiffres en fonction des itérations\n",
    "    - La courbe bleue (train) montre que l'accuracy atteint un plateau proche de 100 %, ce qui suggère un apprentissage quasi parfait sur l'ensemble d'entraînement.\n",
    "    - La courbe orange (test) monte initialement, puis se stabilise à une valeur inférieure à 100 %, indiquant une généralisation correcte mais possiblement un overfitting si l'écart avec l'entraînement est trop grand.\n",
    "\n",
    "3) La courbe de loss (perte) en fonction des itérations (epochs) : \n",
    "    - La courbe bleue représente la loss d'entraînement, qui diminue rapidement et se stabilise à une valeur très basse.\n",
    "    - La courbe orange représente la loss de test, qui diminue également mais reste plus élevée que celle d'entraînement. Cela indique un certain écart entre les performances sur l'entraînement et le test."
   ]
  },
  {
   "cell_type": "markdown",
   "metadata": {},
   "source": [
    "**Nous souhaiterions utiliser les  corpus MNIST  et  Audio MNIST pour réaliser un système \n",
    "multimodal de reconnaissance de caractère où l’on écrirait et énoncerait le chiffre en même \n",
    "temps, le but étant de palier les problèmes de reconnaissance des chiffres écrits et énoncés \n",
    "séparément  pour  se  rapprocher  d’une  performance  à  100%.  Comment  pourriez-vous \n",
    "procéder en utilisant le projet de Kaggle ? Décrivez toutes les étapes.**"
   ]
  },
  {
   "cell_type": "markdown",
   "metadata": {},
   "source": [
    "# Système Multimodal de Reconnaissance de Caractères avec MNIST et AudioMNIST\n",
    "\n",
    "## 1. Préparation des Données\n",
    "### MNIST (Images)\n",
    "- Charger le dataset MNIST via `torchvision`.\n",
    "- Normaliser les images et diviser en ensembles d'entraînement et de test.\n",
    "\n",
    "### AudioMNIST (Audio)\n",
    "- Charger le dataset AudioMNIST en utilisant les fichiers CSV fournis.\n",
    "- Prétraiter les fichiers audio :\n",
    "  - Uniformiser la durée des signaux (remplissage ou tronquage).\n",
    "  - Convertir les signaux en MelSpectrogram pour obtenir une représentation en fréquence.\n",
    "  - Appliquer une transformation logarithmique pour une meilleure robustesse.\n",
    "- Diviser les données en ensembles d'entraînement et de test.\n",
    "\n",
    "## 2. Extraction des Caractéristiques\n",
    "- Pour MNIST, les pixels des images constituent les features.\n",
    "- Pour AudioMNIST, extraire des caractéristiques à partir des MelSpectrograms.\n",
    "\n",
    "## 3. Conception du Modèle\n",
    "### Modèles Indépendants\n",
    "- **Modèle Image (CNN)** : Convolutional Neural Network (CNN) pour classifier les images MNIST.\n",
    "- **Modèle Audio (CNN/RNN)** : CNN ou RNN (LSTM, GRU) pour classifier les spectrogrammes AudioMNIST.\n",
    "\n",
    "### Fusion Multimodale\n",
    "- Combinaison des features des deux modèles.\n",
    "- Plusieurs stratégies de fusion possibles :\n",
    "    1. **Fusion précoce** : concaténation des caractéristiques brutes.\n",
    "         - Les images MNIST et les spectrogrammes audio sont traités comme des entrées conjointes.\n",
    "         - Avantage : permet au modèle d'apprendre des corrélations à bas niveau entre les modalités.\n",
    "         - Défi : nécessite d'harmoniser les dimensions des différentes modalités (images et signaux audio de chiffres).\n",
    "    \n",
    "    2. **Fusion intermédiaire** : combinaison des caractéristiques après traitement partiel.\n",
    "         - Les CNNs extraient séparément les caractéristiques de chaque modalité, puis ces caractéristiques sont fusionnées.\n",
    "         - Avantage : permet d'extraire des représentations spécifiques à chaque modalité avant fusion.\n",
    "         - Implémentation : concaténation des vecteurs de caractéristiques ou utilisation d'une couche d'attention (qui attribue des poids a certaines parties des données).\n",
    "    \n",
    "    3. **Fusion tardive** : combinaison des prédictions finales de chaque modèle.\n",
    "         - Chaque modèle produit sa propre prédiction, puis ces prédictions sont combinées.\n",
    "         - Méthodes : moyenne pondérée, vote majoritaire ou modèle d'apprentissage supplémentaire.\n",
    "         - Avantage : robustesse accrue si une modalité est défaillante ou bruitée.\n",
    "\n",
    "- Architecture du modèle fusionné :\n",
    "    - Encodeurs spécifiques à chaque modalité (CNN pour images, CNN/RNN pour audio)\n",
    "    - Mécanisme d'attention pour pondérer l'importance de chaque modalité\n",
    "    - Couches fully connected finales pour la classification des 10 chiffres (0-9)\n",
    "\n",
    "## 4. Entraînement\n",
    "- Entraîner le modèle image sur MNIST.\n",
    "- Entraîner le modèle audio sur AudioMNIST.\n",
    "- Entraîner le modèle fusionné sur la combinaison des données.\n",
    "- Utiliser une fonction de perte adaptée (ex. Cross-Entropy Loss).\n",
    "- Implémenter un mécanisme d'attention pour pondérer l'importance de chaque modalité.\n",
    "\n",
    "## 5. Évaluation\n",
    "- Tester la performance des modèles individuels.\n",
    "- Tester la performance du modèle fusionné.\n",
    "- Comparer les résultats et identifier les cas où une modalité est plus fiable que l'autre.\n",
    "\n",
    "## 6. Optimisation\n",
    "- Expérimenter avec différentes architectures et hyperparamètres.\n",
    "- Appliquer des techniques d'augmentation de données.\n",
    "- Ajuster la stratégie de fusion pour améliorer les performances.\n",
    "\n",
    "## 7. Déploiement\n",
    "- Exporter le modèle final.\n",
    "- Tester avec des entrées utilisateur pour valider la robustesse.\n",
    "\n",
    "Cette approche permet d'exploiter la complémentarité entre l'image et l'audio afin d'améliorer la reconnaissance des chiffres et de se rapprocher d'une performance optimale.\n"
   ]
  },
  {
   "cell_type": "markdown",
   "metadata": {},
   "source": [
    "---\n",
    "---\n",
    "\n",
    "## Déroulé brute\n",
    "\n",
    "1. Préparation des données\n",
    "   1. Télécharger les données MNIST via torchvision, image de chiffre écrit, et enregistrements audios des chiffres prononcés, AudioMNIST\n",
    "2. Prétraitement des données\n",
    "   1. Pour les images MNIST, normalisation et redimensionnement (si nécessaire)\n",
    "   2. Conversions des enregistrement audio en fichier Tensors/torchaudio\n",
    "   3. Découpage des données en subset d'apprentissage et de tests\n",
    "   4. Standardisation des longueurs de signaux audios (complétion par un signal vide, ou coupe de l'extrait selon que le signal d'origine sois trop court/long)\n",
    "   5. Transformation du signal audio en MelSpectrogram audio (représentation en fréquence)\n",
    "   6. Transformation des spectres en échelles décibels (représentation logarithlique des intensités)\n",
    "3. Début de la construction du mdoele\n",
    "   1. Initialisation de 2 Convolutional Neural Network, CNN, un pour les images, un autres pour les audios\n",
    "   2. Fusions en une couche des 2 CNN (images et audios)\n",
    "\n",
    "   Stratégies de fusion :\n",
    "\n",
    "   Fusion précoce : concaténation des caractéristiques brutes\n",
    "   Fusion intermédiaire : combinaison des caractéristiques après traitement partiel\n",
    "   Fusion tardive : combinaison des prédictions individuelles de chaque modalité\n",
    "   Tester différentes stratégies pour déterminer la plus efficace\n",
    "\n",
    "   3. Entraînement du modèle :\n",
    "\n",
    "   Utiliser une fonction de perte adaptée (comme l'entropie croisée)\n",
    "   Implémenter un mécanisme d'attention pour donner plus de poids à la modalité la plus fiable selon le contexte\n",
    "   Appliquer des techniques d'augmentation de données pour améliorer la robustesse\n",
    "\n",
    "\n",
    "   4. Évaluation et optimisation :\n",
    "\n",
    "   Tester le modèle sur différentes configurations :\n",
    "\n",
    "   Performance sur chaque modalité séparément\n",
    "   Performance du modèle combiné\n",
    "\n",
    "\n",
    "   Analyser les cas où une modalité est plus fiable que l'autre\n",
    "   Implémenter une stratégie de décision qui privilégie la modalité la plus fiable en cas de désaccord\n"
   ]
  }
 ],
 "metadata": {
  "kernelspec": {
   "display_name": ".venv",
   "language": "python",
   "name": "python3"
  },
  "language_info": {
   "codemirror_mode": {
    "name": "ipython",
    "version": 3
   },
   "file_extension": ".py",
   "mimetype": "text/x-python",
   "name": "python",
   "nbconvert_exporter": "python",
   "pygments_lexer": "ipython3",
   "version": "3.11.3"
  }
 },
 "nbformat": 4,
 "nbformat_minor": 2
}
