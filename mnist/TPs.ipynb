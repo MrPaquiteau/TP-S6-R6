{
 "cells": [
  {
   "cell_type": "markdown",
   "metadata": {},
   "source": [
    "# Un réseau convolutionnel : MNIST"
   ]
  },
  {
   "cell_type": "markdown",
   "metadata": {},
   "source": [
    "## Exercice 1 Recherche, Installation et lancement"
   ]
  },
  {
   "cell_type": "markdown",
   "metadata": {},
   "source": [
    "## Exercice 2 Génération d’un fichier de description"
   ]
  },
  {
   "cell_type": "markdown",
   "metadata": {},
   "source": [
    "? Générer un fichier yaml pour conda et un fichier pour pip. Comparez-les."
   ]
  },
  {
   "cell_type": "code",
   "execution_count": null,
   "metadata": {
    "vscode": {
     "languageId": "bat"
    }
   },
   "outputs": [],
   "source": [
    "conda activate ML"
   ]
  },
  {
   "cell_type": "code",
   "execution_count": null,
   "metadata": {
    "vscode": {
     "languageId": "bat"
    }
   },
   "outputs": [],
   "source": [
    "conda env export > environment.yml"
   ]
  },
  {
   "cell_type": "code",
   "execution_count": null,
   "metadata": {
    "vscode": {
     "languageId": "bat"
    }
   },
   "outputs": [],
   "source": [
    "pip freeze > requirements.txt"
   ]
  },
  {
   "cell_type": "markdown",
   "metadata": {},
   "source": [
    "- 'requirements.txt' ne contient que la listes des packages installé avec leur versions\n",
    "- 'environment.yml', contient, le nom de l'environnement, l'ensemble des dépendances, parmis lesquelles la listes des packages avec leur version. "
   ]
  },
  {
   "cell_type": "markdown",
   "metadata": {},
   "source": [
    "## Exercice 3 Variation des paramètres du script"
   ]
  },
  {
   "cell_type": "markdown",
   "metadata": {},
   "source": [
    "? Identifiez les différents paramètres que l’on peut passer à l’appel du code. A quoi correspondent-ils à votre avis ? Lisez la documentation pour les comprendre"
   ]
  },
  {
   "cell_type": "markdown",
   "metadata": {},
   "source": [
    "Les parametres sont : \n",
    "- '--batch-size', La taille d'un batch (block/lot de données d'entrée) pour l'entrainement du modele\n",
    "- '--test-batch-size', La taille d'un batch pour le test du modele\n",
    "- '--epochs', Nombre d'epochs pour l'entrainement\n",
    "- '--lr', Learning Rate (1)\n",
    "- '--gamma', Learning Rate Gamma (0.7), \n",
    "- '--no-cuda', désactivation de CUDA training\n",
    "- '--seed', graine aléatoire, change le sens des images données aux épochs\n",
    "- '--log-interval', fréquence d'actualisation d'affichage de la progression\n",
    "- '--save-model'"
   ]
  },
  {
   "cell_type": "markdown",
   "metadata": {},
   "source": [
    "\n",
    "```Python\n",
    "parser.add_argument('--batch-size', type=int, default=64, metavar='N', help='input batch size for training (default: 64)')\n",
    "parser.add_argument('--test-batch-size', type=int, default=1000, metavar='N', help='input batch size for testing (default: 1000)')\n",
    "parser.add_argument('--epochs', type=int, default=14, metavar='N', help='number of epochs to train (default: 14)')\n",
    "parser.add_argument('--lr', type=float, default=1.0, metavar='LR', help='learning rate (default: 1.0)')\n",
    "parser.add_argument('--gamma', type=float, default=0.7, metavar='M', help='Learning rate step gamma (default: 0.7)')\n",
    "parser.add_argument('--no-cuda', action='store_true', default=False, help='disables CUDA training')\n",
    "parser.add_argument('--seed', type=int, default=1, metavar='S', help='random seed (default: 1)')\n",
    "parser.add_argument('--log-interval', type=int, default=10, metavar='N', help='how many batches to wait before logging training status')\n",
    "parser.add_argument('--save-model', action='store_true', default=False, help='For Saving the current Model')\n",
    "```"
   ]
  },
  {
   "cell_type": "markdown",
   "metadata": {},
   "source": [
    "? Lancer le code en faisant varier les paramètres. Attention, pour voir l’effet d’un paramètre, il ne faut faire varier qu’un seul paramètre à la fois ! Etablissez un tableau des performances avec les différentes valeurs de paramètres que vous avez choisi. Quelle est la meilleure solution ? Pourquoi ?"
   ]
  },
  {
   "cell_type": "code",
   "execution_count": 1,
   "metadata": {},
   "outputs": [],
   "source": [
    "from main import main\n",
    "import sys"
   ]
  },
  {
   "cell_type": "code",
   "execution_count": 2,
   "metadata": {},
   "outputs": [
    {
     "name": "stderr",
     "output_type": "stream",
     "text": [
      "100.0%\n",
      "100.0%\n",
      "100.0%\n",
      "100.0%\n",
      "/Users/paquito/Library/Mobile Documents/com~apple~CloudDocs/University/3A/Semestre 6/R6.06 Renforcement Info/Mise-en-pratique/.venv/lib/python3.11/site-packages/torch/nn/functional.py:1538: UserWarning: dropout2d: Received a 2-D input to dropout2d, which is deprecated and will result in an error in a future release. To retain the behavior and silence this warning, please use dropout instead. Note that dropout2d exists to provide channel-wise dropout on inputs with 2 spatial dimensions, a channel dimension, and an optional batch dimension (i.e. 3D or 4D inputs).\n",
      "  warnings.warn(warn_msg)\n"
     ]
    },
    {
     "name": "stdout",
     "output_type": "stream",
     "text": [
      "<_io.StringIO object at 0x104209cf0>\n",
      "Test set: Average loss: 0.2293, Accuracy: 9311/10000 (93%)\n"
     ]
    }
   ],
   "source": [
    "import io\n",
    "import sys\n",
    "from contextlib import redirect_stdout\n",
    "from main import main\n",
    "\n",
    "# Simuler les arguments de ligne de commande\n",
    "sys.argv = [\n",
    "    'script.py', \n",
    "    '--batch-size', '10', \n",
    "    '--test-batch-size', '1000', \n",
    "    '--epochs', '1', \n",
    "    '--lr', '0.01', \n",
    "    '--gamma', '0.9', \n",
    "    '--no-cuda', \n",
    "    '--seed', '42', \n",
    "    '--log-interval', '5', \n",
    "    '--save-model'\n",
    "]\n",
    "\n",
    "# main()\n",
    "# python c:/Users/relaved/Documents/Mise-en-pratique/mnist/main.py\n",
    "\n",
    "# Capturer la sortie standard et écrire dans un log\n",
    "log_file_path = 'execution_log.txt'\n",
    "with open(log_file_path, 'w') as log_file:\n",
    "    f = io.StringIO()\n",
    "    with redirect_stdout(f):\n",
    "        main()\n",
    "    log_file.write(f.getvalue())\n",
    "    print(f)\n",
    "\n",
    "# Lire le fichier de log et analyser les logs pour obtenir la perte (loss)\n",
    "with open(log_file_path, 'r') as log_file:\n",
    "    logs = log_file.read()\n",
    "\n",
    "# Analyser les logs pour obtenir la perte (loss)\n",
    "for line in logs.split('\\n'):\n",
    "    if 'Test set: Average loss: ' in line:\n",
    "        print(line)"
   ]
  },
  {
   "cell_type": "markdown",
   "metadata": {},
   "source": [
    "On attend de la losse qu'ele diminue, tende vers 0"
   ]
  },
  {
   "cell_type": "markdown",
   "metadata": {},
   "source": [
    "## Exercice 4 Performance d’exécution"
   ]
  },
  {
   "cell_type": "markdown",
   "metadata": {},
   "source": [
    "Nous allons nous intéresser à la performance du programme, en essayant de voir la répartition du temps d’exécution pour chacune des fonctions appelées. Pour cela, lors du lancement du programme, au lieu de simplement écrire « python main.py… », nous utiliserons « python -m cProfile -s time main.py… »."
   ]
  },
  {
   "cell_type": "markdown",
   "metadata": {},
   "source": [
    "? Lancez l’entrainement sur 1 epoch et regardez le résultat obtenu. Que pouvez-vous en dire ?"
   ]
  },
  {
   "cell_type": "code",
   "execution_count": null,
   "metadata": {},
   "outputs": [],
   "source": [
    "!python -m cProfile -s time c:/Users/relaved/Documents/Mise-en-pratique/mnist/main.py "
   ]
  },
  {
   "cell_type": "markdown",
   "metadata": {},
   "source": [
    "? Faites en sorte de sauvegarder les valeurs de la loss dans un fichier lorsque le programme est lancé. Faites varier le batch-size et relancez à chaque fois pour 1 epoch. Que constatez-vous pour la loss ? Pour la sortie du profiler de code ?"
   ]
  },
  {
   "cell_type": "markdown",
   "metadata": {},
   "source": [
    "## Exercice 5 Perception acoustique (AudioMNIST)"
   ]
  }
 ],
 "metadata": {
  "kernelspec": {
   "display_name": ".venv",
   "language": "python",
   "name": "python3"
  },
  "language_info": {
   "codemirror_mode": {
    "name": "ipython",
    "version": 3
   },
   "file_extension": ".py",
   "mimetype": "text/x-python",
   "name": "python",
   "nbconvert_exporter": "python",
   "pygments_lexer": "ipython3",
   "version": "3.11.11"
  }
 },
 "nbformat": 4,
 "nbformat_minor": 2
}
