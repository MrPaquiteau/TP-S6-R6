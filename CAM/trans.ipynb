{
 "cells": [
  {
   "cell_type": "code",
   "execution_count": 1,
   "metadata": {},
   "outputs": [
    {
     "name": "stdout",
     "output_type": "stream",
     "text": [
      "Collecting imgaug\n",
      "  Using cached imgaug-0.4.0-py2.py3-none-any.whl.metadata (1.8 kB)\n",
      "Requirement already satisfied: six in d:\\users\\kopno\\icloud\\drive\\iclouddrive\\university\\3a\\semestre 6\\r6.06 renforcement info\\tp-s6-r6\\.venv\\lib\\site-packages (from imgaug) (1.17.0)\n",
      "Requirement already satisfied: numpy>=1.15 in d:\\users\\kopno\\icloud\\drive\\iclouddrive\\university\\3a\\semestre 6\\r6.06 renforcement info\\tp-s6-r6\\.venv\\lib\\site-packages (from imgaug) (1.26.4)\n",
      "Collecting scipy (from imgaug)\n",
      "  Using cached scipy-1.15.2-cp312-cp312-win_amd64.whl.metadata (60 kB)\n",
      "Requirement already satisfied: Pillow in d:\\users\\kopno\\icloud\\drive\\iclouddrive\\university\\3a\\semestre 6\\r6.06 renforcement info\\tp-s6-r6\\.venv\\lib\\site-packages (from imgaug) (11.1.0)\n",
      "Requirement already satisfied: matplotlib in d:\\users\\kopno\\icloud\\drive\\iclouddrive\\university\\3a\\semestre 6\\r6.06 renforcement info\\tp-s6-r6\\.venv\\lib\\site-packages (from imgaug) (3.10.1)\n",
      "Collecting scikit-image>=0.14.2 (from imgaug)\n",
      "  Using cached scikit_image-0.25.2-cp312-cp312-win_amd64.whl.metadata (14 kB)\n",
      "Collecting opencv-python (from imgaug)\n",
      "  Using cached opencv_python-4.11.0.86-cp37-abi3-win_amd64.whl.metadata (20 kB)\n",
      "Collecting imageio (from imgaug)\n",
      "  Using cached imageio-2.37.0-py3-none-any.whl.metadata (5.2 kB)\n",
      "Collecting Shapely (from imgaug)\n",
      "  Using cached shapely-2.0.7-cp312-cp312-win_amd64.whl.metadata (7.1 kB)\n",
      "Requirement already satisfied: networkx>=3.0 in d:\\users\\kopno\\icloud\\drive\\iclouddrive\\university\\3a\\semestre 6\\r6.06 renforcement info\\tp-s6-r6\\.venv\\lib\\site-packages (from scikit-image>=0.14.2->imgaug) (3.4.2)\n",
      "Collecting tifffile>=2022.8.12 (from scikit-image>=0.14.2->imgaug)\n",
      "  Using cached tifffile-2025.2.18-py3-none-any.whl.metadata (31 kB)\n",
      "Requirement already satisfied: packaging>=21 in d:\\users\\kopno\\icloud\\drive\\iclouddrive\\university\\3a\\semestre 6\\r6.06 renforcement info\\tp-s6-r6\\.venv\\lib\\site-packages (from scikit-image>=0.14.2->imgaug) (24.2)\n",
      "Collecting lazy-loader>=0.4 (from scikit-image>=0.14.2->imgaug)\n",
      "  Using cached lazy_loader-0.4-py3-none-any.whl.metadata (7.6 kB)\n",
      "Requirement already satisfied: contourpy>=1.0.1 in d:\\users\\kopno\\icloud\\drive\\iclouddrive\\university\\3a\\semestre 6\\r6.06 renforcement info\\tp-s6-r6\\.venv\\lib\\site-packages (from matplotlib->imgaug) (1.3.1)\n",
      "Requirement already satisfied: cycler>=0.10 in d:\\users\\kopno\\icloud\\drive\\iclouddrive\\university\\3a\\semestre 6\\r6.06 renforcement info\\tp-s6-r6\\.venv\\lib\\site-packages (from matplotlib->imgaug) (0.12.1)\n",
      "Requirement already satisfied: fonttools>=4.22.0 in d:\\users\\kopno\\icloud\\drive\\iclouddrive\\university\\3a\\semestre 6\\r6.06 renforcement info\\tp-s6-r6\\.venv\\lib\\site-packages (from matplotlib->imgaug) (4.56.0)\n",
      "Requirement already satisfied: kiwisolver>=1.3.1 in d:\\users\\kopno\\icloud\\drive\\iclouddrive\\university\\3a\\semestre 6\\r6.06 renforcement info\\tp-s6-r6\\.venv\\lib\\site-packages (from matplotlib->imgaug) (1.4.8)\n",
      "Requirement already satisfied: pyparsing>=2.3.1 in d:\\users\\kopno\\icloud\\drive\\iclouddrive\\university\\3a\\semestre 6\\r6.06 renforcement info\\tp-s6-r6\\.venv\\lib\\site-packages (from matplotlib->imgaug) (3.2.1)\n",
      "Requirement already satisfied: python-dateutil>=2.7 in d:\\users\\kopno\\icloud\\drive\\iclouddrive\\university\\3a\\semestre 6\\r6.06 renforcement info\\tp-s6-r6\\.venv\\lib\\site-packages (from matplotlib->imgaug) (2.9.0.post0)\n",
      "Using cached imgaug-0.4.0-py2.py3-none-any.whl (948 kB)\n",
      "Downloading scikit_image-0.25.2-cp312-cp312-win_amd64.whl (12.9 MB)\n",
      "   ---------------------------------------- 0.0/12.9 MB ? eta -:--:--\n",
      "   ---------------------------------------- 12.9/12.9 MB 81.0 MB/s eta 0:00:00\n",
      "Downloading imageio-2.37.0-py3-none-any.whl (315 kB)\n",
      "Downloading scipy-1.15.2-cp312-cp312-win_amd64.whl (40.9 MB)\n",
      "   ---------------------------------------- 0.0/40.9 MB ? eta -:--:--\n",
      "   ----------------- ---------------------- 17.8/40.9 MB 86.5 MB/s eta 0:00:01\n",
      "   ---------------------------------------  40.9/40.9 MB 104.2 MB/s eta 0:00:01\n",
      "   ---------------------------------------- 40.9/40.9 MB 66.8 MB/s eta 0:00:00\n",
      "Downloading opencv_python-4.11.0.86-cp37-abi3-win_amd64.whl (39.5 MB)\n",
      "   ---------------------------------------- 0.0/39.5 MB ? eta -:--:--\n",
      "   ------------------------ --------------- 24.4/39.5 MB 118.8 MB/s eta 0:00:01\n",
      "   ---------------------------------------  39.3/39.5 MB 119.1 MB/s eta 0:00:01\n",
      "   ---------------------------------------- 39.5/39.5 MB 81.0 MB/s eta 0:00:00\n",
      "Downloading shapely-2.0.7-cp312-cp312-win_amd64.whl (1.4 MB)\n",
      "   ---------------------------------------- 0.0/1.4 MB ? eta -:--:--\n",
      "   ---------------------------------------- 1.4/1.4 MB 38.1 MB/s eta 0:00:00\n",
      "Downloading lazy_loader-0.4-py3-none-any.whl (12 kB)\n",
      "Downloading tifffile-2025.2.18-py3-none-any.whl (226 kB)\n",
      "Installing collected packages: tifffile, Shapely, scipy, opencv-python, lazy-loader, imageio, scikit-image, imgaug\n",
      "Successfully installed Shapely-2.0.7 imageio-2.37.0 imgaug-0.4.0 lazy-loader-0.4 opencv-python-4.11.0.86 scikit-image-0.25.2 scipy-1.15.2 tifffile-2025.2.18\n",
      "Note: you may need to restart the kernel to use updated packages.\n"
     ]
    }
   ],
   "source": [
    "%pip install imgaug"
   ]
  },
  {
   "cell_type": "code",
   "execution_count": null,
   "metadata": {},
   "outputs": [
    {
     "name": "stdout",
     "output_type": "stream",
     "text": [
      "Les images transformées ont été sauvegardées dans le dossier 'transformed_images'.\n"
     ]
    },
    {
     "ename": "",
     "evalue": "",
     "output_type": "error",
     "traceback": [
      "\u001b[1;31mThe Kernel crashed while executing code in the current cell or a previous cell. \n",
      "\u001b[1;31mPlease review the code in the cell(s) to identify a possible cause of the failure. \n",
      "\u001b[1;31mClick <a href='https://aka.ms/vscodeJupyterKernelCrash'>here</a> for more info. \n",
      "\u001b[1;31mView Jupyter <a href='command:jupyter.viewOutput'>log</a> for further details."
     ]
    }
   ],
   "source": [
    "import imgaug as ia\n",
    "from imgaug import augmenters as iaa\n",
    "import cv2\n",
    "import numpy as np\n",
    "import os\n",
    "\n",
    "# Charger l'image\n",
    "image_path = 'z.jpg'  # Remplacez par le chemin de votre image\n",
    "image = cv2.imread(image_path)\n",
    "\n",
    "# Vérifier si l'image a été chargée correctement\n",
    "if image is None:\n",
    "    raise ValueError(\"L'image n'a pas pu être chargée. Vérifiez le chemin.\")\n",
    "\n",
    "# Initialiser les transformations\n",
    "aug_brightness = iaa.Sequential([\n",
    "    iaa.Multiply((0.1, 1.9))  # Change la luminosité en multipliant les valeurs des pixels par un facteur entre 0.5 et 1.5\n",
    "])\n",
    "\n",
    "aug_scale = iaa.Sequential([\n",
    "    iaa.Affine(scale={\"x\": (0.3, 1.8), \"y\": (0.2, 1.9)})  # Change l'échelle de l'image\n",
    "])\n",
    "\n",
    "# Créer un dossier pour sauvegarder les images transformées\n",
    "output_dir = 'transformed_images'\n",
    "os.makedirs(output_dir, exist_ok=True)\n",
    "\n",
    "# Appliquer les transformations et sauvegarder les images\n",
    "for i in range(10):\n",
    "    # Transformation de la luminosité\n",
    "    image_brightness = aug_brightness.augment_image(image)\n",
    "    cv2.imwrite(os.path.join(output_dir, f'brightness_{i+1}.jpg'), image_brightness)\n",
    "    \n",
    "    # Transformation de la mise à l'échelle\n",
    "    image_scale = aug_scale.augment_image(image)\n",
    "    cv2.imwrite(os.path.join(output_dir, f'scale_{i+1}.jpg'), image_scale)\n",
    "\n",
    "print(\"Les images transformées ont été sauvegardées dans le dossier 'transformed_images'.\")"
   ]
  }
 ],
 "metadata": {
  "kernelspec": {
   "display_name": ".venv",
   "language": "python",
   "name": "python3"
  },
  "language_info": {
   "codemirror_mode": {
    "name": "ipython",
    "version": 3
   },
   "file_extension": ".py",
   "mimetype": "text/x-python",
   "name": "python",
   "nbconvert_exporter": "python",
   "pygments_lexer": "ipython3",
   "version": "3.12.7"
  }
 },
 "nbformat": 4,
 "nbformat_minor": 2
}
