{
 "cells": [
  {
   "cell_type": "code",
   "execution_count": 8,
   "metadata": {},
   "outputs": [
    {
     "name": "stdout",
     "output_type": "stream",
     "text": [
      "Les images transformées ont été sauvegardées dans le dossier 'transformed_images'.\n"
     ]
    }
   ],
   "source": [
    "import imgaug as ia\n",
    "from imgaug import augmenters as iaa\n",
    "import cv2\n",
    "import numpy as np\n",
    "import os\n",
    "\n",
    "# Charger l'image\n",
    "image_path = 'z.jpg'  # Remplacez par le chemin de votre image\n",
    "image = cv2.imread(image_path)\n",
    "\n",
    "# Vérifier si l'image a été chargée correctement\n",
    "if image is None:\n",
    "    raise ValueError(\"L'image n'a pas pu être chargée. Vérifiez le chemin.\")\n",
    "\n",
    "# Initialiser les transformations\n",
    "aug_combined = iaa.Sequential([\n",
    "    iaa.Multiply((0.01, 2.9)),  # Changement de luminosité\n",
    "    iaa.Affine(scale={\"x\": (0.1, 2.8), \"y\": (0.1, 2.9)})  # Changement d'échelle\n",
    "])\n",
    "\n",
    "# Créer un dossier pour sauvegarder les images transformées\n",
    "output_dir = 'transformed_images'\n",
    "os.makedirs(output_dir, exist_ok=True)\n",
    "\n",
    "# Appliquer les transformations combinées et sauvegarder les images\n",
    "for i in range(10):\n",
    "    # Appliquer les deux transformations simultanément\n",
    "    image_transformed = aug_combined.augment_image(image)\n",
    "    cv2.imwrite(os.path.join(output_dir, f'transformed_{i+1}.jpg'), image_transformed)\n",
    "\n",
    "print(\"Les images transformées ont été sauvegardées dans le dossier 'transformed_images'.\")"
   ]
  }
 ],
 "metadata": {
  "kernelspec": {
   "display_name": ".venv",
   "language": "python",
   "name": "python3"
  },
  "language_info": {
   "codemirror_mode": {
    "name": "ipython",
    "version": 3
   },
   "file_extension": ".py",
   "mimetype": "text/x-python",
   "name": "python",
   "nbconvert_exporter": "python",
   "pygments_lexer": "ipython3",
   "version": "3.11.11"
  }
 },
 "nbformat": 4,
 "nbformat_minor": 2
}
