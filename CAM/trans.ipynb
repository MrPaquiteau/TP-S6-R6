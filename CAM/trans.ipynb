{
 "cells": [
  {
   "cell_type": "code",
   "execution_count": 16,
   "metadata": {},
   "outputs": [
    {
     "name": "stdout",
     "output_type": "stream",
     "text": [
      "Les images transformées ont été sauvegardées dans le dossier 'transformed_images'.\n"
     ]
    }
   ],
   "source": [
    "import imgaug as ia\n",
    "from imgaug import augmenters as iaa\n",
    "import cv2\n",
    "import numpy as np\n",
    "import os\n",
    "\n",
    "# Charger l'image\n",
    "image_path = 'tennis_ball.jpg'  # Remplacez par le chemin de votre image\n",
    "image = cv2.imread(image_path)\n",
    "\n",
    "# Vérifier si l'image a été chargée correctement\n",
    "if image is None:\n",
    "    raise ValueError(\"L'image n'a pas pu être chargée. Vérifiez le chemin.\")\n",
    "\n",
    "# Créer un dossier pour sauvegarder les images transformées\n",
    "output_dir = 'transformed_images'\n",
    "os.makedirs(output_dir, exist_ok=True)\n",
    "\n",
    "# Nombre d'images pour chaque type de transformation\n",
    "num_images = 10\n",
    "\n",
    "# Paramètres pour les transformations\n",
    "brightness_range = (0.1, 10.0)  # Plage de luminosité\n",
    "perspective_scale_range = (0.0, 0.5)  # Plage pour la distorsion de perspective\n",
    "\n",
    "# Générer 10 images avec une augmentation progressive de la luminosité\n",
    "brightness_step = (brightness_range[1] - brightness_range[0]) / (num_images - 1)\n",
    "\n",
    "for i in range(num_images):\n",
    "    # Calculer la luminosité progressive\n",
    "    brightness_factor = brightness_range[0] + brightness_step * i\n",
    "\n",
    "    # Appliquer la transformation de luminosité\n",
    "    aug = iaa.Multiply(brightness_factor)\n",
    "    image_transformed = aug.augment_image(image)\n",
    "    \n",
    "    # Sauvegarder l'image transformée\n",
    "    cv2.imwrite(os.path.join(output_dir, f'brightness_{i+1}.jpg'), image_transformed)\n",
    "\n",
    "# Générer 10 images avec une augmentation progressive de la perspective\n",
    "perspective_step = (perspective_scale_range[1] - perspective_scale_range[0]) / (num_images - 1)\n",
    "\n",
    "for i in range(num_images):\n",
    "    # Calculer le paramètre de perspective progressive\n",
    "    perspective_scale = perspective_scale_range[0] + perspective_step * i\n",
    "\n",
    "    # Appliquer la transformation de perspective\n",
    "    aug = iaa.PerspectiveTransform(scale=perspective_scale)\n",
    "    image_transformed = aug.augment_image(image)\n",
    "    \n",
    "    # Sauvegarder l'image transformée\n",
    "    cv2.imwrite(os.path.join(output_dir, f'perspective_{i+1}.jpg'), image_transformed)\n",
    "\n",
    "print(\"Les images transformées ont été sauvegardées dans le dossier 'transformed_images'.\")"
   ]
  }
 ],
 "metadata": {
  "kernelspec": {
   "display_name": ".venv",
   "language": "python",
   "name": "python3"
  },
  "language_info": {
   "codemirror_mode": {
    "name": "ipython",
    "version": 3
   },
   "file_extension": ".py",
   "mimetype": "text/x-python",
   "name": "python",
   "nbconvert_exporter": "python",
   "pygments_lexer": "ipython3",
   "version": "3.11.11"
  }
 },
 "nbformat": 4,
 "nbformat_minor": 2
}
